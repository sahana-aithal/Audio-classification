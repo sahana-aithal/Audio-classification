{
 "cells": [
  {
   "cell_type": "code",
   "execution_count": 1,
   "id": "1ebdbda3",
   "metadata": {},
   "outputs": [],
   "source": [
    "%matplotlib inline\n",
    "import numpy as np\n",
    "import tensorflow as tf\n",
    "import pandas as pd\n",
    "import librosa as lib\n",
    "import librosa, librosa.display\n",
    "from tensorflow import keras\n",
    "import cv2\n",
    "from imutils import paths\n",
    "import random\n",
    "import os\n",
    "from keras.preprocessing import image as im\n",
    "from PIL import Image\n",
    "import PIL\n",
    "from tensorflow.keras import datasets, layers, models\n",
    "import matplotlib.pyplot as plt\n",
    "import tarfile\n",
    "import IPython.display as ipd\n",
    "from pylab import *"
   ]
  },
  {
   "cell_type": "markdown",
   "id": "c2a39a66",
   "metadata": {},
   "source": [
    "pip install librosa"
   ]
  },
  {
   "cell_type": "code",
   "execution_count": 2,
   "id": "9b3ac722",
   "metadata": {},
   "outputs": [],
   "source": [
    "#Read data from .csv file\n",
    "data = pd.read_csv('Data_Sorted.csv')\n",
    "\n",
    "#Randomize data by sampling randomly and reassigning indicies\n",
    "data = data.sample(frac=1).reset_index(drop=True)\n",
    "#print(data)"
   ]
  },
  {
   "cell_type": "code",
   "execution_count": 3,
   "id": "9454dd1b",
   "metadata": {},
   "outputs": [],
   "source": [
    "#Split dataframe into filenames and labels\n",
    "\n",
    "filenames = data.iloc[:,0]\n",
    "#print(filenames.shape)\n",
    "#print(filenames)\n",
    "labels = data.iloc[:,3]\n",
    "#print(labels.shape)\n",
    "#print(labels)\n"
   ]
  },
  {
   "cell_type": "code",
   "execution_count": 4,
   "id": "c51ac9b9",
   "metadata": {},
   "outputs": [],
   "source": [
    "#Process each .wav file and store numpy arrays of their Mel Frequency Cepstral Coefficients (MFCCs) to use in NN\n",
    "#TAKES A WHILE\n",
    "base_dir = 'ESC-50-master/audio/'\n",
    "mfccs = []\n",
    "hop_length = 512 # in num. of samples\n",
    "n_fft = 2048 # window in num. of samples\n",
    "for i in range(len(filenames)):\n",
    "    test_file = filenames[i]\n",
    "    path = os.path.join(base_dir,test_file)\n",
    "    signal,sample_rate = lib.load(path,sr=22050)\n",
    "    mfccs.append(librosa.feature.mfcc(signal,sample_rate,n_fft=n_fft,hop_length=hop_length,n_mfcc=1))"
   ]
  },
  {
   "cell_type": "code",
   "execution_count": 5,
   "id": "5a618e87",
   "metadata": {
    "scrolled": false
   },
   "outputs": [
    {
     "name": "stdout",
     "output_type": "stream",
     "text": [
      "(800, 1, 216)\n",
      "(800, 216)\n"
     ]
    }
   ],
   "source": [
    "#Converts array data types and reshapes for preprocessing\n",
    "labels = np.array(labels)\n",
    "mfccs = tf.convert_to_tensor(mfccs)\n",
    "print(mfccs.shape)\n",
    "mfccstest = tf.reshape(mfccs,(800,216))\n",
    "print(mfccstest.shape)"
   ]
  },
  {
   "cell_type": "code",
   "execution_count": 6,
   "id": "6e4fad60",
   "metadata": {},
   "outputs": [],
   "source": [
    "#Convert dataset into pandas dataframe to normalize\n",
    "mfccstest = pd.DataFrame(mfccstest)\n",
    "norm_mfccs = mfccstest.apply(lambda x: (x-x.mean()) / (x.std()))\n",
    "norm_mfccs = norm_mfccs.fillna(0)"
   ]
  },
  {
   "cell_type": "code",
   "execution_count": 7,
   "id": "387f1e3d",
   "metadata": {},
   "outputs": [
    {
     "name": "stdout",
     "output_type": "stream",
     "text": [
      "0      tf.Tensor(-296.54214, shape=(), dtype=float32)\n",
      "1      tf.Tensor(-467.98502, shape=(), dtype=float32)\n",
      "2       tf.Tensor(-426.9008, shape=(), dtype=float32)\n",
      "3       tf.Tensor(-594.9372, shape=(), dtype=float32)\n",
      "4      tf.Tensor(-292.81213, shape=(), dtype=float32)\n",
      "                            ...                      \n",
      "795    tf.Tensor(-51.509182, shape=(), dtype=float32)\n",
      "796     tf.Tensor(-335.9433, shape=(), dtype=float32)\n",
      "797     tf.Tensor(-431.7385, shape=(), dtype=float32)\n",
      "798     tf.Tensor(-553.6154, shape=(), dtype=float32)\n",
      "799    tf.Tensor(-110.38846, shape=(), dtype=float32)\n",
      "Name: 0, Length: 800, dtype: object\n",
      "0      tf.Tensor(-0.24197675, shape=(), dtype=float32)\n",
      "1       tf.Tensor(-1.1843661, shape=(), dtype=float32)\n",
      "2      tf.Tensor(-0.95853376, shape=(), dtype=float32)\n",
      "3       tf.Tensor(-1.8821983, shape=(), dtype=float32)\n",
      "4      tf.Tensor(-0.22147359, shape=(), dtype=float32)\n",
      "                            ...                       \n",
      "795      tf.Tensor(1.1049235, shape=(), dtype=float32)\n",
      "796    tf.Tensor(-0.45855752, shape=(), dtype=float32)\n",
      "797     tf.Tensor(-0.9851257, shape=(), dtype=float32)\n",
      "798     tf.Tensor(-1.6550603, shape=(), dtype=float32)\n",
      "799     tf.Tensor(0.78127515, shape=(), dtype=float32)\n",
      "Name: 0, Length: 800, dtype: object\n"
     ]
    }
   ],
   "source": [
    "print(mfccstest[0])\n",
    "print(norm_mfccs[0])"
   ]
  },
  {
   "cell_type": "code",
   "execution_count": 8,
   "id": "0446f296",
   "metadata": {},
   "outputs": [],
   "source": [
    "#Split into train and test data\n",
    "train_data = norm_mfccs.iloc[0:599,:]\n",
    "train_label = labels[0:599]\n",
    "test_data = norm_mfccs.iloc[600:800,:]\n",
    "test_label = labels[600:800]\n",
    "\n",
    "train_data = np.asarray(train_data)\n",
    "test_data = np.asarray(test_data)\n",
    "\n",
    "train_data = tf.convert_to_tensor(train_data,dtype = tf.float32)\n",
    "test_data = tf.convert_to_tensor(test_data,dtype = tf.float32)"
   ]
  },
  {
   "cell_type": "code",
   "execution_count": 9,
   "id": "56198321",
   "metadata": {},
   "outputs": [
    {
     "name": "stdout",
     "output_type": "stream",
     "text": [
      "Model: \"sequential\"\n",
      "_________________________________________________________________\n",
      "Layer (type)                 Output Shape              Param #   \n",
      "=================================================================\n",
      "dense (Dense)                (None, 216)               46872     \n",
      "_________________________________________________________________\n",
      "dense_1 (Dense)              (None, 32)                6944      \n",
      "_________________________________________________________________\n",
      "dropout (Dropout)            (None, 32)                0         \n",
      "_________________________________________________________________\n",
      "dense_2 (Dense)              (None, 1)                 33        \n",
      "=================================================================\n",
      "Total params: 53,849\n",
      "Trainable params: 53,849\n",
      "Non-trainable params: 0\n",
      "_________________________________________________________________\n"
     ]
    }
   ],
   "source": [
    "#Build sequential model\n",
    "model = keras.models.Sequential()\n",
    "model.add(tf.keras.layers.Dense(216,activation = \"relu\",input_dim=216))\n",
    "model.add(tf.keras.layers.Dense(32,activation = \"relu\"))\n",
    "model.add(tf.keras.layers.Dropout(0.5))\n",
    "model.add(tf.keras.layers.Dense(1,activation = \"sigmoid\"))\n",
    "\n",
    "opt = keras.optimizers.Adam(learning_rate = 0.00005)\n",
    "model.compile(optimizer = opt,loss = 'binary_crossentropy',metrics = ['binary_accuracy'])\n",
    "model.summary()"
   ]
  },
  {
   "cell_type": "code",
   "execution_count": 10,
   "id": "49a6e846",
   "metadata": {
    "scrolled": true
   },
   "outputs": [
    {
     "name": "stdout",
     "output_type": "stream",
     "text": [
      "Epoch 1/100\n",
      "120/120 [==============================] - 1s 2ms/step - loss: 0.7534 - binary_accuracy: 0.5342\n",
      "Epoch 2/100\n",
      "120/120 [==============================] - 0s 2ms/step - loss: 0.6820 - binary_accuracy: 0.5776\n",
      "Epoch 3/100\n",
      "120/120 [==============================] - 0s 2ms/step - loss: 0.6282 - binary_accuracy: 0.6411\n",
      "Epoch 4/100\n",
      "120/120 [==============================] - 0s 2ms/step - loss: 0.6350 - binary_accuracy: 0.6177\n",
      "Epoch 5/100\n",
      "120/120 [==============================] - 0s 2ms/step - loss: 0.6340 - binary_accuracy: 0.6294\n",
      "Epoch 6/100\n",
      "120/120 [==============================] - 0s 2ms/step - loss: 0.6230 - binary_accuracy: 0.6411\n",
      "Epoch 7/100\n",
      "120/120 [==============================] - 0s 2ms/step - loss: 0.6118 - binary_accuracy: 0.6728\n",
      "Epoch 8/100\n",
      "120/120 [==============================] - 0s 2ms/step - loss: 0.5992 - binary_accuracy: 0.6745\n",
      "Epoch 9/100\n",
      "120/120 [==============================] - 0s 2ms/step - loss: 0.5980 - binary_accuracy: 0.7045\n",
      "Epoch 10/100\n",
      "120/120 [==============================] - 0s 2ms/step - loss: 0.5960 - binary_accuracy: 0.6912\n",
      "Epoch 11/100\n",
      "120/120 [==============================] - 0s 2ms/step - loss: 0.5956 - binary_accuracy: 0.6811\n",
      "Epoch 12/100\n",
      "120/120 [==============================] - 0s 2ms/step - loss: 0.5807 - binary_accuracy: 0.6995\n",
      "Epoch 13/100\n",
      "120/120 [==============================] - 0s 2ms/step - loss: 0.5819 - binary_accuracy: 0.6845\n",
      "Epoch 14/100\n",
      "120/120 [==============================] - 0s 2ms/step - loss: 0.5778 - binary_accuracy: 0.6978\n",
      "Epoch 15/100\n",
      "120/120 [==============================] - 0s 2ms/step - loss: 0.5691 - binary_accuracy: 0.7129\n",
      "Epoch 16/100\n",
      "120/120 [==============================] - 0s 2ms/step - loss: 0.5830 - binary_accuracy: 0.6878\n",
      "Epoch 17/100\n",
      "120/120 [==============================] - 0s 2ms/step - loss: 0.5786 - binary_accuracy: 0.7012\n",
      "Epoch 18/100\n",
      "120/120 [==============================] - 0s 2ms/step - loss: 0.5674 - binary_accuracy: 0.7062\n",
      "Epoch 19/100\n",
      "120/120 [==============================] - 0s 2ms/step - loss: 0.5749 - binary_accuracy: 0.6995\n",
      "Epoch 20/100\n",
      "120/120 [==============================] - 0s 2ms/step - loss: 0.5664 - binary_accuracy: 0.6978\n",
      "Epoch 21/100\n",
      "120/120 [==============================] - 0s 2ms/step - loss: 0.5548 - binary_accuracy: 0.7012\n",
      "Epoch 22/100\n",
      "120/120 [==============================] - 0s 2ms/step - loss: 0.5537 - binary_accuracy: 0.7145\n",
      "Epoch 23/100\n",
      "120/120 [==============================] - 0s 2ms/step - loss: 0.5580 - binary_accuracy: 0.7028\n",
      "Epoch 24/100\n",
      "120/120 [==============================] - 0s 2ms/step - loss: 0.5576 - binary_accuracy: 0.7229\n",
      "Epoch 25/100\n",
      "120/120 [==============================] - 0s 2ms/step - loss: 0.5565 - binary_accuracy: 0.7162\n",
      "Epoch 26/100\n",
      "120/120 [==============================] - 0s 2ms/step - loss: 0.5498 - binary_accuracy: 0.7028\n",
      "Epoch 27/100\n",
      "120/120 [==============================] - 0s 2ms/step - loss: 0.5545 - binary_accuracy: 0.7062\n",
      "Epoch 28/100\n",
      "120/120 [==============================] - 0s 2ms/step - loss: 0.5426 - binary_accuracy: 0.7245\n",
      "Epoch 29/100\n",
      "120/120 [==============================] - 0s 2ms/step - loss: 0.5386 - binary_accuracy: 0.7145\n",
      "Epoch 30/100\n",
      "120/120 [==============================] - 0s 2ms/step - loss: 0.5371 - binary_accuracy: 0.7195\n",
      "Epoch 31/100\n",
      "120/120 [==============================] - 0s 2ms/step - loss: 0.5356 - binary_accuracy: 0.7162\n",
      "Epoch 32/100\n",
      "120/120 [==============================] - 0s 2ms/step - loss: 0.5360 - binary_accuracy: 0.7162\n",
      "Epoch 33/100\n",
      "120/120 [==============================] - 0s 2ms/step - loss: 0.5222 - binary_accuracy: 0.7245\n",
      "Epoch 34/100\n",
      "120/120 [==============================] - 0s 2ms/step - loss: 0.5222 - binary_accuracy: 0.7279\n",
      "Epoch 35/100\n",
      "120/120 [==============================] - 0s 2ms/step - loss: 0.5211 - binary_accuracy: 0.7412\n",
      "Epoch 36/100\n",
      "120/120 [==============================] - 0s 2ms/step - loss: 0.5309 - binary_accuracy: 0.7195\n",
      "Epoch 37/100\n",
      "120/120 [==============================] - 0s 2ms/step - loss: 0.5255 - binary_accuracy: 0.7262\n",
      "Epoch 38/100\n",
      "120/120 [==============================] - ETA: 0s - loss: 0.5152 - binary_accuracy: 0.743 - 0s 2ms/step - loss: 0.5165 - binary_accuracy: 0.7429\n",
      "Epoch 39/100\n",
      "120/120 [==============================] - 0s 2ms/step - loss: 0.5113 - binary_accuracy: 0.7295\n",
      "Epoch 40/100\n",
      "120/120 [==============================] - 0s 2ms/step - loss: 0.5193 - binary_accuracy: 0.7379\n",
      "Epoch 41/100\n",
      "120/120 [==============================] - 0s 2ms/step - loss: 0.5271 - binary_accuracy: 0.7145\n",
      "Epoch 42/100\n",
      "120/120 [==============================] - 0s 2ms/step - loss: 0.5302 - binary_accuracy: 0.7379\n",
      "Epoch 43/100\n",
      "120/120 [==============================] - 0s 2ms/step - loss: 0.5050 - binary_accuracy: 0.7346\n",
      "Epoch 44/100\n",
      "120/120 [==============================] - 0s 2ms/step - loss: 0.5203 - binary_accuracy: 0.7312\n",
      "Epoch 45/100\n",
      "120/120 [==============================] - 0s 2ms/step - loss: 0.5046 - binary_accuracy: 0.7462\n",
      "Epoch 46/100\n",
      "120/120 [==============================] - 0s 2ms/step - loss: 0.5130 - binary_accuracy: 0.7229\n",
      "Epoch 47/100\n",
      "120/120 [==============================] - 0s 2ms/step - loss: 0.5051 - binary_accuracy: 0.7229\n",
      "Epoch 48/100\n",
      "120/120 [==============================] - 0s 2ms/step - loss: 0.5089 - binary_accuracy: 0.7362\n",
      "Epoch 49/100\n",
      "120/120 [==============================] - 0s 2ms/step - loss: 0.5050 - binary_accuracy: 0.7295\n",
      "Epoch 50/100\n",
      "120/120 [==============================] - 0s 2ms/step - loss: 0.4989 - binary_accuracy: 0.7546\n",
      "Epoch 51/100\n",
      "120/120 [==============================] - 0s 2ms/step - loss: 0.4929 - binary_accuracy: 0.7496\n",
      "Epoch 52/100\n",
      "120/120 [==============================] - 0s 2ms/step - loss: 0.5009 - binary_accuracy: 0.7513\n",
      "Epoch 53/100\n",
      "120/120 [==============================] - 0s 2ms/step - loss: 0.4955 - binary_accuracy: 0.7563\n",
      "Epoch 54/100\n",
      "120/120 [==============================] - 0s 2ms/step - loss: 0.4895 - binary_accuracy: 0.7546\n",
      "Epoch 55/100\n",
      "120/120 [==============================] - 0s 2ms/step - loss: 0.4993 - binary_accuracy: 0.7446\n",
      "Epoch 56/100\n",
      "120/120 [==============================] - 0s 2ms/step - loss: 0.4900 - binary_accuracy: 0.7462\n",
      "Epoch 57/100\n",
      "120/120 [==============================] - 0s 2ms/step - loss: 0.4943 - binary_accuracy: 0.7613\n",
      "Epoch 58/100\n",
      "120/120 [==============================] - 0s 2ms/step - loss: 0.4901 - binary_accuracy: 0.7546\n",
      "Epoch 59/100\n",
      "120/120 [==============================] - 0s 2ms/step - loss: 0.5013 - binary_accuracy: 0.7446\n",
      "Epoch 60/100\n",
      "120/120 [==============================] - 0s 2ms/step - loss: 0.4889 - binary_accuracy: 0.7646\n",
      "Epoch 61/100\n",
      "120/120 [==============================] - 0s 2ms/step - loss: 0.4747 - binary_accuracy: 0.7646\n",
      "Epoch 62/100\n",
      "120/120 [==============================] - 0s 2ms/step - loss: 0.4735 - binary_accuracy: 0.7496A: 0s - loss: 0.4856 - binary_accuracy: 0.75\n",
      "Epoch 63/100\n",
      "120/120 [==============================] - 0s 2ms/step - loss: 0.4879 - binary_accuracy: 0.7529\n",
      "Epoch 64/100\n",
      "120/120 [==============================] - 0s 2ms/step - loss: 0.4746 - binary_accuracy: 0.7646\n",
      "Epoch 65/100\n",
      "120/120 [==============================] - 0s 2ms/step - loss: 0.4679 - binary_accuracy: 0.7763\n",
      "Epoch 66/100\n",
      "120/120 [==============================] - 0s 2ms/step - loss: 0.4712 - binary_accuracy: 0.7563\n",
      "Epoch 67/100\n",
      "120/120 [==============================] - 0s 2ms/step - loss: 0.4635 - binary_accuracy: 0.7663\n",
      "Epoch 68/100\n",
      "120/120 [==============================] - 0s 2ms/step - loss: 0.4669 - binary_accuracy: 0.7730\n",
      "Epoch 69/100\n",
      "120/120 [==============================] - 0s 2ms/step - loss: 0.4554 - binary_accuracy: 0.7596\n",
      "Epoch 70/100\n",
      "120/120 [==============================] - 0s 2ms/step - loss: 0.4703 - binary_accuracy: 0.7629\n",
      "Epoch 71/100\n",
      "120/120 [==============================] - 0s 2ms/step - loss: 0.4699 - binary_accuracy: 0.7663\n",
      "Epoch 72/100\n",
      "120/120 [==============================] - 0s 2ms/step - loss: 0.4629 - binary_accuracy: 0.7596\n",
      "Epoch 73/100\n",
      "120/120 [==============================] - 0s 2ms/step - loss: 0.4565 - binary_accuracy: 0.7780\n",
      "Epoch 74/100\n",
      "120/120 [==============================] - 0s 2ms/step - loss: 0.4589 - binary_accuracy: 0.7780\n",
      "Epoch 75/100\n"
     ]
    },
    {
     "name": "stdout",
     "output_type": "stream",
     "text": [
      "120/120 [==============================] - 0s 2ms/step - loss: 0.4502 - binary_accuracy: 0.7796\n",
      "Epoch 76/100\n",
      "120/120 [==============================] - 0s 2ms/step - loss: 0.4644 - binary_accuracy: 0.7613\n",
      "Epoch 77/100\n",
      "120/120 [==============================] - 0s 2ms/step - loss: 0.4547 - binary_accuracy: 0.7629A: 0s - loss: 0.4598 - binary_accuracy: 0.754\n",
      "Epoch 78/100\n",
      "120/120 [==============================] - 0s 2ms/step - loss: 0.4496 - binary_accuracy: 0.7896\n",
      "Epoch 79/100\n",
      "120/120 [==============================] - 0s 2ms/step - loss: 0.4647 - binary_accuracy: 0.7730\n",
      "Epoch 80/100\n",
      "120/120 [==============================] - 0s 2ms/step - loss: 0.4496 - binary_accuracy: 0.7896\n",
      "Epoch 81/100\n",
      "120/120 [==============================] - 0s 2ms/step - loss: 0.4540 - binary_accuracy: 0.7679\n",
      "Epoch 82/100\n",
      "120/120 [==============================] - 0s 2ms/step - loss: 0.4482 - binary_accuracy: 0.7663\n",
      "Epoch 83/100\n",
      "120/120 [==============================] - 0s 2ms/step - loss: 0.4535 - binary_accuracy: 0.7780\n",
      "Epoch 84/100\n",
      "120/120 [==============================] - 0s 2ms/step - loss: 0.4543 - binary_accuracy: 0.7730\n",
      "Epoch 85/100\n",
      "120/120 [==============================] - 0s 2ms/step - loss: 0.4369 - binary_accuracy: 0.7780\n",
      "Epoch 86/100\n",
      "120/120 [==============================] - 0s 2ms/step - loss: 0.4428 - binary_accuracy: 0.7880\n",
      "Epoch 87/100\n",
      "120/120 [==============================] - 0s 2ms/step - loss: 0.4435 - binary_accuracy: 0.8047\n",
      "Epoch 88/100\n",
      "120/120 [==============================] - 0s 2ms/step - loss: 0.4424 - binary_accuracy: 0.7813\n",
      "Epoch 89/100\n",
      "120/120 [==============================] - 0s 2ms/step - loss: 0.4519 - binary_accuracy: 0.7696\n",
      "Epoch 90/100\n",
      "120/120 [==============================] - 0s 2ms/step - loss: 0.4417 - binary_accuracy: 0.7746\n",
      "Epoch 91/100\n",
      "120/120 [==============================] - 0s 2ms/step - loss: 0.4386 - binary_accuracy: 0.7863\n",
      "Epoch 92/100\n",
      "120/120 [==============================] - 0s 2ms/step - loss: 0.4283 - binary_accuracy: 0.8013\n",
      "Epoch 93/100\n",
      "120/120 [==============================] - 0s 2ms/step - loss: 0.4505 - binary_accuracy: 0.7780\n",
      "Epoch 94/100\n",
      "120/120 [==============================] - 0s 2ms/step - loss: 0.4290 - binary_accuracy: 0.7796\n",
      "Epoch 95/100\n",
      "120/120 [==============================] - 0s 2ms/step - loss: 0.4240 - binary_accuracy: 0.8080\n",
      "Epoch 96/100\n",
      "120/120 [==============================] - 0s 2ms/step - loss: 0.4244 - binary_accuracy: 0.8147\n",
      "Epoch 97/100\n",
      "120/120 [==============================] - 0s 2ms/step - loss: 0.4360 - binary_accuracy: 0.7663\n",
      "Epoch 98/100\n",
      "120/120 [==============================] - 0s 2ms/step - loss: 0.4350 - binary_accuracy: 0.8030\n",
      "Epoch 99/100\n",
      "120/120 [==============================] - 0s 2ms/step - loss: 0.4314 - binary_accuracy: 0.7813\n",
      "Epoch 100/100\n",
      "120/120 [==============================] - 0s 2ms/step - loss: 0.4340 - binary_accuracy: 0.7846\n"
     ]
    }
   ],
   "source": [
    "#Define fit parameters, fit model to training data\n",
    "num_epochs = 100;\n",
    "batch_size = 5;\n",
    "history = model.fit(train_data,train_label,batch_size=batch_size,epochs=num_epochs)"
   ]
  },
  {
   "cell_type": "code",
   "execution_count": 11,
   "id": "05f8fe7b",
   "metadata": {
    "scrolled": false
   },
   "outputs": [
    {
     "data": {
      "image/png": "[encoded data removed]",
      "text/plain": [
       "<Figure size 432x288 with 1 Axes>"
      ]
     },
     "metadata": {
      "needs_background": "light"
     },
     "output_type": "display_data"
    }
   ],
   "source": [
    "#Plot binary accuracy and binary crossentropy loss metrics\n",
    "plt.plot(history.history['binary_accuracy'], label='binary_accuracy')\n",
    "plt.plot(history.history['loss'], label = 'loss')\n",
    "plt.xlabel('Epoch')\n",
    "plt.ylabel('Accuracy')\n",
    "plt.legend(loc='right');"
   ]
  },
  {
   "cell_type": "code",
   "execution_count": 12,
   "id": "5f69642c",
   "metadata": {},
   "outputs": [
    {
     "name": "stdout",
     "output_type": "stream",
     "text": [
      "40/40 [==============================] - 0s 913us/step - loss: 0.7145 - binary_accuracy: 0.6650\n"
     ]
    }
   ],
   "source": [
    "#Evaluate the model using the test dataset\n",
    "test_history = model.evaluate(test_data,test_label,5)"
   ]
  },
  {
   "cell_type": "code",
   "execution_count": null,
   "id": "10dacd71",
   "metadata": {},
   "outputs": [],
   "source": []
  },
  {
   "cell_type": "code",
   "execution_count": null,
   "id": "b9930842",
   "metadata": {},
   "outputs": [],
   "source": []
  },
  {
   "cell_type": "code",
   "execution_count": null,
   "id": "5d99ad57",
   "metadata": {},
   "outputs": [],
   "source": []
  },
  {
   "cell_type": "code",
   "execution_count": null,
   "id": "5b04da55",
   "metadata": {},
   "outputs": [],
   "source": []
  },
  {
   "cell_type": "code",
   "execution_count": null,
   "id": "84a75d63",
   "metadata": {},
   "outputs": [],
   "source": []
  },
  {
   "cell_type": "code",
   "execution_count": null,
   "id": "5d236a61",
   "metadata": {},
   "outputs": [],
   "source": []
  },
  {
   "cell_type": "code",
   "execution_count": null,
   "id": "af477306",
   "metadata": {},
   "outputs": [],
   "source": []
  },
  {
   "cell_type": "code",
   "execution_count": 13,
   "id": "6d150f10",
   "metadata": {},
   "outputs": [
    {
     "name": "stdout",
     "output_type": "stream",
     "text": [
      "0\n"
     ]
    },
    {
     "data": {
      "image/png": "[encoded data removed]",
      "text/plain": [
       "<Figure size 432x288 with 1 Axes>"
      ]
     },
     "metadata": {
      "needs_background": "light"
     },
     "output_type": "display_data"
    }
   ],
   "source": [
    "plt.plot(train_data[0,:])\n",
    "plt.xlabel('Mfcc')\n",
    "plt.ylabel('Normalized Value of Mfcc')\n",
    "plt.title('Mfcc Array for \"Natural\" audio file')\n",
    "print(train_label[0])"
   ]
  },
  {
   "cell_type": "code",
   "execution_count": 14,
   "id": "fdf22718",
   "metadata": {},
   "outputs": [
    {
     "data": {
      "text/plain": [
       "Text(0.5, 1.0, 'Mfcc Array for \"Unnatural\" audio file')"
      ]
     },
     "execution_count": 14,
     "metadata": {},
     "output_type": "execute_result"
    },
    {
     "data": {
      "image/png": "[encoded data removed]",
      "text/plain": [
       "<Figure size 432x288 with 1 Axes>"
      ]
     },
     "metadata": {
      "needs_background": "light"
     },
     "output_type": "display_data"
    }
   ],
   "source": [
    "plt.plot(train_data[2,:])\n",
    "plt.xlabel('Mfcc')\n",
    "plt.ylabel('Normalized Value of Mfcc')\n",
    "plt.title('Mfcc Array for \"Unnatural\" audio file')"
   ]
  },
  {
   "cell_type": "code",
   "execution_count": null,
   "id": "68689140",
   "metadata": {},
   "outputs": [],
   "source": []
  },
  {
   "cell_type": "code",
   "execution_count": null,
   "id": "91f15d63",
   "metadata": {},
   "outputs": [],
   "source": []
  }
 ],
 "metadata": {
  "kernelspec": {
   "display_name": "Python 3",
   "language": "python",
   "name": "python3"
  },
  "language_info": {
   "codemirror_mode": {
    "name": "ipython",
    "version": 3
   },
   "file_extension": ".py",
   "mimetype": "text/x-python",
   "name": "python",
   "nbconvert_exporter": "python",
   "pygments_lexer": "ipython3",
   "version": "3.8.8"
  }
 },
 "nbformat": 4,
 "nbformat_minor": 5
}
